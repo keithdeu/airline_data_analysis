{
 "cells": [
  {
   "cell_type": "markdown",
   "metadata": {},
   "source": [
    "# Sentiment Analysis of Airline Review Data\n",
    "\n",
    "---\n",
    "\n",
    "This is the dataset I'm working with: [https://www.airlinequality.com/airline-reviews/british-airways] We can use `Python` and `BeautifulSoup` to collect all the links to the reviews and then to collect the text data on each of the individual review links. The text is is fairly unstructured, so we will have to do some work to clean it before our analysis. "
   ]
  },
  {
   "cell_type": "code",
   "execution_count": 252,
   "metadata": {},
   "outputs": [
    {
     "name": "stderr",
     "output_type": "stream",
     "text": [
      "[nltk_data] Downloading package vader_lexicon to\n",
      "[nltk_data]     C:\\Users\\keith\\AppData\\Roaming\\nltk_data...\n",
      "[nltk_data]   Package vader_lexicon is already up-to-date!\n"
     ]
    }
   ],
   "source": [
    "import requests\n",
    "from bs4 import BeautifulSoup\n",
    "import pandas as pd\n",
    "import re\n",
    "import nltk\n",
    "from nltk.sentiment.vader import SentimentIntensityAnalyzer\n",
    "from nltk.corpus import stopwords\n",
    "nltk.download('vader_lexicon')\n",
    "import matplotlib.pyplot as plt\n",
    "from textblob import TextBlob\n",
    "from textblob.np_extractors import ConllExtractor\n",
    "from collections import defaultdict"
   ]
  },
  {
   "cell_type": "code",
   "execution_count": 253,
   "metadata": {},
   "outputs": [
    {
     "name": "stdout",
     "output_type": "stream",
     "text": [
      "Scraping page 1\n",
      "   ---> 100 total reviews\n",
      "Scraping page 2\n",
      "   ---> 200 total reviews\n",
      "Scraping page 3\n",
      "   ---> 300 total reviews\n",
      "Scraping page 4\n",
      "   ---> 400 total reviews\n",
      "Scraping page 5\n",
      "   ---> 500 total reviews\n",
      "Scraping page 6\n",
      "   ---> 600 total reviews\n",
      "Scraping page 7\n",
      "   ---> 700 total reviews\n",
      "Scraping page 8\n",
      "   ---> 800 total reviews\n",
      "Scraping page 9\n",
      "   ---> 900 total reviews\n",
      "Scraping page 10\n",
      "   ---> 1000 total reviews\n"
     ]
    }
   ],
   "source": [
    "base_url = \"https://www.airlinequality.com/airline-reviews/british-airways\"\n",
    "pages = 10\n",
    "page_size = 100\n",
    "\n",
    "reviews = []\n",
    "\n",
    "# for i in range(1, pages + 1):\n",
    "for i in range(1, pages + 1):\n",
    "\n",
    "    print(f\"Scraping page {i}\")\n",
    "\n",
    "    # Create URL to collect links from paginated data\n",
    "    url = f\"{base_url}/page/{i}/?sortby=post_date%3ADesc&pagesize={page_size}\"\n",
    "\n",
    "    # Collect HTML data from this page\n",
    "    response = requests.get(url)\n",
    "\n",
    "    # Parse content\n",
    "    content = response.content\n",
    "    parsed_content = BeautifulSoup(content, 'html.parser')\n",
    "    for para in parsed_content.find_all(\"div\", {\"class\": \"text_content\"}):\n",
    "        reviews.append(para.get_text())\n",
    "    \n",
    "    print(f\"   ---> {len(reviews)} total reviews\")"
   ]
  },
  {
   "cell_type": "code",
   "execution_count": 254,
   "metadata": {},
   "outputs": [
    {
     "data": {
      "text/html": [
       "<div>\n",
       "<style scoped>\n",
       "    .dataframe tbody tr th:only-of-type {\n",
       "        vertical-align: middle;\n",
       "    }\n",
       "\n",
       "    .dataframe tbody tr th {\n",
       "        vertical-align: top;\n",
       "    }\n",
       "\n",
       "    .dataframe thead th {\n",
       "        text-align: right;\n",
       "    }\n",
       "</style>\n",
       "<table border=\"1\" class=\"dataframe\">\n",
       "  <thead>\n",
       "    <tr style=\"text-align: right;\">\n",
       "      <th></th>\n",
       "      <th>reviews</th>\n",
       "    </tr>\n",
       "  </thead>\n",
       "  <tbody>\n",
       "    <tr>\n",
       "      <th>0</th>\n",
       "      <td>Not Verified |  Great thing about British Airw...</td>\n",
       "    </tr>\n",
       "    <tr>\n",
       "      <th>1</th>\n",
       "      <td>Not Verified | The staff are friendly. The pla...</td>\n",
       "    </tr>\n",
       "    <tr>\n",
       "      <th>2</th>\n",
       "      <td>✅ Trip Verified | Probably the worst business ...</td>\n",
       "    </tr>\n",
       "    <tr>\n",
       "      <th>3</th>\n",
       "      <td>✅ Trip Verified | Definitely not recommended, ...</td>\n",
       "    </tr>\n",
       "    <tr>\n",
       "      <th>4</th>\n",
       "      <td>✅ Trip Verified |  BA shuttle service across t...</td>\n",
       "    </tr>\n",
       "  </tbody>\n",
       "</table>\n",
       "</div>"
      ],
      "text/plain": [
       "                                             reviews\n",
       "0  Not Verified |  Great thing about British Airw...\n",
       "1  Not Verified | The staff are friendly. The pla...\n",
       "2  ✅ Trip Verified | Probably the worst business ...\n",
       "3  ✅ Trip Verified | Definitely not recommended, ...\n",
       "4  ✅ Trip Verified |  BA shuttle service across t..."
      ]
     },
     "execution_count": 254,
     "metadata": {},
     "output_type": "execute_result"
    }
   ],
   "source": [
    "df = pd.DataFrame()\n",
    "df[\"reviews\"] = reviews\n",
    "df.head()"
   ]
  },
  {
   "cell_type": "markdown",
   "metadata": {},
   "source": [
    "The loops above collected 1000 reviews by iterating through the paginated pages on the website. \n",
    "\n",
    "Next we clean the data by removing any unnecessary stopwords, symbols, punctuation, integers, lowercasing all the characters.\n",
    "\n",
    "Once the data is clean, we can perform our sentiment analysis using the nltk module sentiment analyzer.\n",
    "\n",
    "After that, we can also extract common phrases from the reviews using the textblob module to create a bar chart consisting of the top 10 phrases in the reviews."
   ]
  },
  {
   "cell_type": "code",
   "execution_count": 267,
   "metadata": {},
   "outputs": [],
   "source": [
    "def sentiment_analysis(df):\n",
    "    #clean data by removing generic identifiers\n",
    "    df = df.copy()\n",
    "    df = df.replace(regex=r'✅ Trip Verified \\| ', value='')\n",
    "    df = df.replace(regex=r'Not Verified \\| ', value='')\n",
    "    \n",
    "    #create data structures to store results\n",
    "    polarity = []\n",
    "    phrases = defaultdict(int)\n",
    "    all_text = ''\n",
    "    \n",
    "    #remove all punctuation, trailing whitespace, lowercase all characters, remove stopwords, remove integers\n",
    "    #assign score based on words in review and add that score to the dataframe\n",
    "    for i in range(len(df)):\n",
    "        text = re.sub(r'[^\\w\\s]', '', df.iloc[i]['reviews']).strip().lower()\n",
    "        all_text += text + ' '\n",
    "        text = text.split()\n",
    "        text = [w for w in text if w.isnumeric() == False]\n",
    "        text = ' '.join(text)\n",
    "        \n",
    "        sid = SentimentIntensityAnalyzer()\n",
    "        score = sid.polarity_scores(text)['compound']\n",
    "        if score > 0:\n",
    "            polarity.append('positive')\n",
    "        elif score < 0: \n",
    "            polarity.append('negative')\n",
    "        else:\n",
    "            polarity.append('neutral')\n",
    "        \n",
    "    df['score'] = polarity\n",
    "    all_text = all_text[:-1]\n",
    "    \n",
    "    \n",
    "    #extract percentage of positive, negative, neutral reviews    \n",
    "    l = len(sentiment)\n",
    "    sent_dic = {}\n",
    "    \n",
    "    for w in df['score'].unique():\n",
    "        tdf = df[df['score'] == w]\n",
    "        perc = len(tdf) / l\n",
    "        sent_dic[w] = round(perc * 100, 1)\n",
    "            \n",
    "    print(sent_dic)\n",
    "    \n",
    "    #create bar chart of top ten phrases within all reviews\n",
    "    extractor = ConllExtractor()\n",
    "    blob = TextBlob(all_text, np_extractor=extractor)\n",
    "    for b in blob.noun_phrases:\n",
    "        phrases[b] += 1\n",
    "    top10_phrases = dict(sorted(phrases.items(), key=lambda item: item[1], reverse=True))\n",
    "    \n",
    "    plt.bar(list(top10_phrases.keys())[:10], list(top10_phrases.values())[:10])\n",
    "    plt.xticks(rotation=45)\n",
    "\n",
    "    plt.savefig('phrases.pdf', bbox_inches='tight')\n",
    "    plt.show()\n"
   ]
  },
  {
   "cell_type": "markdown",
   "metadata": {},
   "source": [
    "Now we can display the results, including the percentage of positive, negative, and neutral reviews.\n",
    "We can also display the top 10 phrases that appear in the review data"
   ]
  },
  {
   "cell_type": "code",
   "execution_count": 268,
   "metadata": {
    "scrolled": true
   },
   "outputs": [
    {
     "name": "stdout",
     "output_type": "stream",
     "text": [
      "{'positive': 52.9, 'negative': 46.6, 'neutral': 0.5}\n"
     ]
    },
    {
     "data": {
      "image/png": "[encoded data removed]",
      "text/plain": [
       "<Figure size 432x288 with 1 Axes>"
      ]
     },
     "metadata": {
      "needs_background": "light"
     },
     "output_type": "display_data"
    }
   ],
   "source": [
    "sentiment_analysis(df)"
   ]
  },
  {
   "cell_type": "markdown",
   "metadata": {},
   "source": [
    "This information can be used by the airline company to make sense of mostly unstructured review data by giving us a clear percentage value of positive and negative reviews, and gain insights into what their customers our discussing in their reviews so they know how best to improve their services by focusing on the top 10 most discussed topics in the reviews"
   ]
  }
 ],
 "metadata": {
  "kernelspec": {
   "display_name": "Python 3 (ipykernel)",
   "language": "python",
   "name": "python3"
  },
  "language_info": {
   "codemirror_mode": {
    "name": "ipython",
    "version": 3
   },
   "file_extension": ".py",
   "mimetype": "text/x-python",
   "name": "python",
   "nbconvert_exporter": "python",
   "pygments_lexer": "ipython3",
   "version": "3.9.12"
  },
  "vscode": {
   "interpreter": {
    "hash": "4f7924c4c56b083e0e50eadfe7ef592a7a8ef70df33a0047f82280e6be1afe15"
   }
  }
 },
 "nbformat": 4,
 "nbformat_minor": 2
}
